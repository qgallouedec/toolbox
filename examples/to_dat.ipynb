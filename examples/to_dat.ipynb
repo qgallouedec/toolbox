{
 "cells": [
  {
   "cell_type": "markdown",
   "metadata": {},
   "source": [
    "Build a fake experiement containing 5 runs with 10 reported timesteps."
   ]
  },
  {
   "cell_type": "code",
   "execution_count": 1,
   "metadata": {},
   "outputs": [],
   "source": [
    "import numpy as np\n",
    "from toolbox import save_iqm\n",
    "\n",
    "\n",
    "num_timesteps = 10\n",
    "num_runs = 5\n",
    "timesteps = np.arange(num_timesteps)\n",
    "rewards = np.random.randn(num_runs, num_timesteps)"
   ]
  },
  {
   "cell_type": "markdown",
   "metadata": {},
   "source": [
    "Save IQM, then show the resulting file."
   ]
  },
  {
   "cell_type": "code",
   "execution_count": 2,
   "metadata": {},
   "outputs": [
    {
     "name": "stdout",
     "output_type": "stream",
     "text": [
      "timestep iqm lowq highq\n",
      "0 -0.779 -1.608 0.428\n",
      "1 -0.074 -1.121 0.690\n",
      "2 0.380 -0.036 1.096\n",
      "3 0.092 -0.730 1.215\n",
      "4 0.412 -1.538 1.361\n",
      "5 0.089 -0.907 2.347\n",
      "6 -0.221 -0.569 0.480\n",
      "7 -0.110 -0.458 0.836\n",
      "8 -0.444 -1.427 0.883\n",
      "9 -0.411 -0.989 1.002\n",
      "\n"
     ]
    }
   ],
   "source": [
    "save_iqm(rewards, timesteps)\n",
    "\n",
    "with open(\"result.dat\", \"r\") as f:\n",
    "    print(f.read())"
   ]
  },
  {
   "cell_type": "markdown",
   "metadata": {},
   "source": [
    "Do the same for median measure."
   ]
  },
  {
   "cell_type": "code",
   "execution_count": 3,
   "metadata": {},
   "outputs": [
    {
     "name": "stdout",
     "output_type": "stream",
     "text": [
      "timestep med q0.05 q0.95\n",
      "0 -0.596 -1.636 0.568\n",
      "1 0.219 -1.157 0.728\n",
      "2 0.365 -0.088 1.204\n",
      "3 -0.006 -0.785 1.310\n",
      "4 0.448 -1.901 1.531\n",
      "5 -0.526 -0.947 2.517\n",
      "6 -0.268 -0.612 0.584\n",
      "7 -0.079 -0.507 1.012\n",
      "8 -0.531 -1.534 1.042\n",
      "9 -0.692 -1.040 1.165\n",
      "\n"
     ]
    }
   ],
   "source": [
    "from toolbox import save_median\n",
    "\n",
    "save_median(rewards, timesteps, quantiles=[0.05, 0.95])\n",
    "\n",
    "with open(\"result.dat\", \"r\") as f:\n",
    "    print(f.read())"
   ]
  },
  {
   "cell_type": "code",
   "execution_count": 32,
   "metadata": {},
   "outputs": [
    {
     "name": "stdout",
     "output_type": "stream",
     "text": [
      "thresholds med lowq highq\n",
      "0.000 0.550 0.400 0.700\n",
      "0.020 0.500 0.375 0.650\n",
      "0.040 0.500 0.375 0.650\n",
      "0.061 0.450 0.325 0.600\n",
      "0.081 0.450 0.325 0.600\n",
      "0.101 0.425 0.300 0.551\n",
      "0.121 0.425 0.300 0.551\n",
      "0.141 0.400 0.275 0.550\n",
      "0.162 0.400 0.275 0.550\n",
      "0.182 0.400 0.275 0.550\n",
      "0.202 0.400 0.275 0.550\n",
      "0.222 0.400 0.275 0.550\n",
      "0.242 0.400 0.275 0.550\n",
      "0.263 0.375 0.250 0.500\n",
      "0.283 0.375 0.250 0.500\n",
      "0.303 0.375 0.250 0.500\n",
      "0.323 0.375 0.250 0.500\n",
      "0.343 0.325 0.200 0.450\n",
      "0.364 0.325 0.200 0.450\n",
      "0.384 0.325 0.200 0.450\n",
      "0.404 0.300 0.175 0.425\n",
      "0.424 0.300 0.175 0.425\n",
      "0.444 0.300 0.175 0.425\n",
      "0.465 0.275 0.150 0.400\n",
      "0.485 0.275 0.150 0.400\n",
      "0.505 0.275 0.150 0.400\n",
      "0.525 0.275 0.150 0.400\n",
      "0.546 0.275 0.150 0.400\n",
      "0.566 0.275 0.150 0.400\n",
      "0.586 0.275 0.150 0.400\n",
      "0.606 0.250 0.150 0.375\n",
      "0.626 0.250 0.150 0.375\n",
      "0.647 0.250 0.150 0.375\n",
      "0.667 0.225 0.125 0.350\n",
      "0.687 0.225 0.125 0.350\n",
      "0.707 0.200 0.100 0.325\n",
      "0.727 0.200 0.100 0.325\n",
      "0.748 0.175 0.075 0.275\n",
      "0.768 0.150 0.050 0.250\n",
      "0.788 0.125 0.050 0.225\n",
      "0.808 0.125 0.050 0.225\n",
      "0.828 0.125 0.050 0.225\n",
      "0.849 0.125 0.050 0.225\n",
      "0.869 0.125 0.050 0.225\n",
      "0.889 0.125 0.050 0.225\n",
      "0.909 0.125 0.050 0.225\n",
      "0.929 0.125 0.050 0.225\n",
      "0.950 0.100 0.025 0.200\n",
      "0.970 0.100 0.025 0.200\n",
      "0.990 0.100 0.025 0.200\n",
      "\n"
     ]
    }
   ],
   "source": [
    "from toolbox import save_performance_profile\n",
    "\n",
    "num_evals = 8\n",
    "num_runs = 5\n",
    "\n",
    "final_rewards = np.random.randn(num_runs, num_evals)\n",
    "\n",
    "save_performance_profile(final_rewards, min_val=0, max_val=0.99)\n",
    "\n",
    "with open(\"result.dat\", \"r\") as f:\n",
    "    print(f.read())"
   ]
  },
  {
   "cell_type": "code",
   "execution_count": 17,
   "metadata": {},
   "outputs": [
    {
     "name": "stdout",
     "output_type": "stream",
     "text": [
      "0.3333333333333333\n"
     ]
    }
   ],
   "source": [
    "def run_score_deviation(scores: np.ndarray, tau: float) -> float:\n",
    "    \"\"\"Evaluates how many `scores` are above `tau` averaged across all runs.\"\"\"\n",
    "    return np.mean(scores > tau)\n",
    "\n",
    "\n",
    "score_distributions = np.vectorize(run_score_deviation, excluded=[0])\n",
    "\n",
    "scores = np.array([[1.0, 1.0, 1.0], [0.0, 0.0, 0.0], [0.0, 0.0, 0.0]])  # `num_runs` x `num_tasks`\n",
    "# How many scores are above tau averages accross all run?\n",
    "\n",
    "[1 / 3, 0.0, 0.0]\n",
    "print(score_distributions(scores, 0.5))"
   ]
  },
  {
   "cell_type": "code",
   "execution_count": 30,
   "metadata": {},
   "outputs": [
    {
     "name": "stdout",
     "output_type": "stream",
     "text": [
      "[[0.]\n",
      " [1.]]\n",
      "[[0.5]\n",
      " [0.5]]\n"
     ]
    }
   ],
   "source": [
    "from rliable.library import StratifiedBootstrap\n",
    "\n",
    "x = np.array([[1.0, 1.0], [0.0, 0.0]])  # `num_runs` x `num_tasks`\n",
    "bs = StratifiedBootstrap(x)\n",
    "print(bs.conf_int(np.mean))\n",
    "\n",
    "x = np.array([[1.0, 0.0], [1.0, 0.0]])  # `num_runs` x `num_tasks`\n",
    "bs = StratifiedBootstrap(x)\n",
    "print(bs.conf_int(np.mean))"
   ]
  }
 ],
 "metadata": {
  "interpreter": {
   "hash": "8ac2f52a17b8a297e2bf63c014b5817688962da83b99ea292094f625eca52b9a"
  },
  "kernelspec": {
   "display_name": "Python 3.9.13 ('env': venv)",
   "language": "python",
   "name": "python3"
  },
  "language_info": {
   "codemirror_mode": {
    "name": "ipython",
    "version": 3
   },
   "file_extension": ".py",
   "mimetype": "text/x-python",
   "name": "python",
   "nbconvert_exporter": "python",
   "pygments_lexer": "ipython3",
   "version": "3.9.13"
  },
  "orig_nbformat": 4
 },
 "nbformat": 4,
 "nbformat_minor": 2
}
