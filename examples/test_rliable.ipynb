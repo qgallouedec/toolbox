{
 "cells": [
  {
   "cell_type": "code",
   "execution_count": null,
   "metadata": {},
   "outputs": [],
   "source": [
    "import numpy as np\n",
    "from toolbox import save_iqm\n",
    "\n",
    "timesteps = np.arange(30)\n",
    "rewards = np.random.randn(10, 30)\n",
    "save_iqm(rewards, timesteps)"
   ]
  },
  {
   "cell_type": "code",
   "execution_count": null,
   "metadata": {},
   "outputs": [],
   "source": [
    "from toolbox import save_median\n",
    "\n",
    "save_median(rewards, timesteps)\n"
   ]
  }
 ],
 "metadata": {
  "interpreter": {
   "hash": "8ac2f52a17b8a297e2bf63c014b5817688962da83b99ea292094f625eca52b9a"
  },
  "kernelspec": {
   "display_name": "Python 3.9.13 ('env': venv)",
   "language": "python",
   "name": "python3"
  },
  "language_info": {
   "codemirror_mode": {
    "name": "ipython",
    "version": 3
   },
   "file_extension": ".py",
   "mimetype": "text/x-python",
   "name": "python",
   "nbconvert_exporter": "python",
   "pygments_lexer": "ipython3",
   "version": "3.9.13"
  },
  "orig_nbformat": 4
 },
 "nbformat": 4,
 "nbformat_minor": 2
}
