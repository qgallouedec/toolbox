{
 "cells": [
  {
   "cell_type": "markdown",
   "metadata": {},
   "source": [
    "# Determine network size"
   ]
  },
  {
   "cell_type": "code",
   "execution_count": 1,
   "metadata": {},
   "outputs": [
    {
     "name": "stdout",
     "output_type": "stream",
     "text": [
      "[82 82]\n",
      "[27 27]\n",
      "[25 25]\n",
      "[8 8]\n",
      "[6 6]\n",
      "[3 3]\n"
     ]
    }
   ],
   "source": [
    "from toolbox.torch_utils import conv_2d, pool_2d\n",
    "import numpy as np\n",
    "\n",
    "size = conv_2d(input_size=np.array([84, 84]), kernel_size=3, stride=1)\n",
    "print(size)\n",
    "size = pool_2d(input_size=size, kernel_size=4, stride=3)\n",
    "print(size)\n",
    "size = conv_2d(input_size=size, kernel_size=3, stride=1)\n",
    "print(size)\n",
    "size = pool_2d(input_size=size, kernel_size=4, stride=3)\n",
    "print(size)\n",
    "size = conv_2d(input_size=size, kernel_size=3, stride=1)\n",
    "print(size)\n",
    "size = pool_2d(input_size=size, kernel_size=2, stride=2)\n",
    "print(size)"
   ]
  }
 ],
 "metadata": {
  "interpreter": {
   "hash": "8ac2f52a17b8a297e2bf63c014b5817688962da83b99ea292094f625eca52b9a"
  },
  "kernelspec": {
   "display_name": "Python 3.9.13 ('env': venv)",
   "language": "python",
   "name": "python3"
  },
  "language_info": {
   "codemirror_mode": {
    "name": "ipython",
    "version": 3
   },
   "file_extension": ".py",
   "mimetype": "text/x-python",
   "name": "python",
   "nbconvert_exporter": "python",
   "pygments_lexer": "ipython3",
   "version": "3.9.13"
  },
  "orig_nbformat": 4
 },
 "nbformat": 4,
 "nbformat_minor": 2
}
